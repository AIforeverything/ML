{
 "cells": [
  {
   "cell_type": "code",
   "execution_count": 1,
   "id": "7a800cdd-9019-41f1-a9bc-6b3699e3db7a",
   "metadata": {},
   "outputs": [],
   "source": [
    "import numpy as np\n",
    "import pandas as pd\n",
    "import seaborn as sns\n",
    "import matplotlib.pyplot as plt"
   ]
  },
  {
   "cell_type": "raw",
   "id": "a3c38a42-ed18-4a40-9965-0e4291eef805",
   "metadata": {},
   "source": [
    "Q1.   \n",
    "MCQ:  \n",
    "What is the result of the following code?\n",
    "import numpy as np\n",
    "arr = np.arange(10)\n",
    "arr = arr[arr % 2 == 0]\n",
    "a) [0, 2, 4, 6, 8] \n",
    "b) [0, 2, 4, 6, 8, 10] \n",
    "c) [1, 3, 5, 7, 9] \n",
    "d) [0, 1, 2, 3, 4, 5, 6, 7, 8, 9]\n",
    "Ans: a"
   ]
  },
  {
   "cell_type": "code",
   "execution_count": 2,
   "id": "1fa18b97-4915-47f3-91e9-bfea2c15502b",
   "metadata": {},
   "outputs": [
    {
     "name": "stdout",
     "output_type": "stream",
     "text": [
      "[0 2 4 6 8]\n"
     ]
    }
   ],
   "source": [
    "arr=np.arange(10)\n",
    "arr=arr[arr%2==0]\n",
    "print(arr)"
   ]
  },
  {
   "cell_type": "raw",
   "id": "9238e907-e162-44c6-9f86-3ae886bbcab6",
   "metadata": {},
   "source": [
    "Q2.  What is the output of the following code?\n",
    "\n",
    "\n",
    "\timport numpy as np\n",
    "\tarr = np.random.randint(1, 100, size=(3, 4))\n",
    "\tarr[1:, 1:] = 0\n",
    "\n",
    "\n",
    "a) A 3x4 matrix with zeros in the last two rows and columns starting from index 1  \n",
    "b) A 3x4 matrix with zeros in the last two rows only  \n",
    "c) A 3x4 matrix with zeros in the first column  \n",
    "d) A 3x4 matrix where all values are zero\n",
    "\n",
    "Ans: a"
   ]
  },
  {
   "cell_type": "code",
   "execution_count": 3,
   "id": "d22dbc7c-c052-49e6-bb90-6f995effa105",
   "metadata": {},
   "outputs": [
    {
     "data": {
      "text/plain": [
       "array([[81, 26, 38, 63],\n",
       "       [ 6,  0,  0,  0],\n",
       "       [47,  0,  0,  0]])"
      ]
     },
     "execution_count": 3,
     "metadata": {},
     "output_type": "execute_result"
    }
   ],
   "source": [
    "arr=np.random.randint(1,100,size=(3,4))\n",
    "arr[1:, 1:]=0\n",
    "arr"
   ]
  },
  {
   "cell_type": "raw",
   "id": "9de69955-0eb6-4748-8cb1-555d647f0245",
   "metadata": {},
   "source": [
    "Q3. Which of the following code snippets will correctly create a 4x4 identity matrix using NumPy?\n",
    "\n",
    "a) np.zeros((4, 4))\n",
    "b) np.ones((4, 4))  \n",
    "c) np.eye(4)  \n",
    "d) np.diag([1, 1, 1, 1])\n",
    "\n",
    "ans: d"
   ]
  },
  {
   "cell_type": "code",
   "execution_count": 4,
   "id": "c40c9931-189c-4e91-9c57-26eebcdc7f3f",
   "metadata": {},
   "outputs": [
    {
     "data": {
      "text/plain": [
       "array([[1, 0, 0, 0],\n",
       "       [0, 1, 0, 0],\n",
       "       [0, 0, 1, 0],\n",
       "       [0, 0, 0, 1]])"
      ]
     },
     "execution_count": 4,
     "metadata": {},
     "output_type": "execute_result"
    }
   ],
   "source": [
    "np.diag([1,1,1,1])"
   ]
  },
  {
   "cell_type": "raw",
   "id": "9b20bdb1-299e-4b2b-8807-895b9c4124f6",
   "metadata": {},
   "source": [
    "Q4.  \n",
    "Coding Problem:  \n",
    "You are given the following 2D array:\n",
    "\n",
    "\n",
    "\timport numpy as np\n",
    "\tarr = np.array([[3, 6, 9], \n",
    "                \t[1, 5, 8], \n",
    "                \t[2, 7, 10]])\n",
    "\n",
    "\n",
    "1. Flatten the array into a 1D array. Ans: array([ 3,  6,  9,  1,  5,  8,  2,  7, 10])\n",
    "2. Replace all even values in the array with 0. Ans: array([3, 0, 9, 1, 5, 0, 0, 7, 0])\n",
    "3. Reshape the array back to a 3x3 matrix. \n",
    "array([[3, 0, 9],\n",
    "       [1, 5, 0],\n",
    "       [0, 7, 0]])"
   ]
  },
  {
   "cell_type": "code",
   "execution_count": 5,
   "id": "a39bfb1f-288c-4dc1-aaef-5b71a3fedd43",
   "metadata": {},
   "outputs": [
    {
     "data": {
      "text/plain": [
       "array([ 3,  6,  9,  1,  5,  8,  2,  7, 10])"
      ]
     },
     "execution_count": 5,
     "metadata": {},
     "output_type": "execute_result"
    }
   ],
   "source": [
    "# 1. Flatten the array into a 1D array.\n",
    "arr = np.array([[3, 6, 9], \n",
    "                [1, 5, 8], \n",
    "                [2, 7, 10]])\n",
    "arr=arr.flatten()\n",
    "arr"
   ]
  },
  {
   "cell_type": "code",
   "execution_count": 6,
   "id": "2cb50fab-6274-4d66-9d06-b0fd25555020",
   "metadata": {},
   "outputs": [
    {
     "data": {
      "text/plain": [
       "array([3, 0, 9, 1, 5, 0, 0, 7, 0])"
      ]
     },
     "execution_count": 6,
     "metadata": {},
     "output_type": "execute_result"
    }
   ],
   "source": [
    "# 2. Replace all even values in the array with 0. \n",
    "arr[arr%2==0]=0\n",
    "arr"
   ]
  },
  {
   "cell_type": "code",
   "execution_count": 7,
   "id": "8f892dde-e1f6-460a-a8b4-044c5b50b060",
   "metadata": {
    "scrolled": true
   },
   "outputs": [
    {
     "data": {
      "text/plain": [
       "array([[3, 0, 9],\n",
       "       [1, 5, 0],\n",
       "       [0, 7, 0]])"
      ]
     },
     "execution_count": 7,
     "metadata": {},
     "output_type": "execute_result"
    }
   ],
   "source": [
    "# 3. Reshape the array back to a 3x3 matrix. \n",
    "arr=arr.reshape(3,3)\n",
    "arr"
   ]
  },
  {
   "cell_type": "raw",
   "id": "dd0a17ce-2330-4513-bef9-fcb9e40990ff",
   "metadata": {},
   "source": [
    "Q5. \n",
    "Coding Problem:  \n",
    "You are given the following 1D array:\n",
    "arr = np.array([1, 3, 5, 7, 9, 11])\n",
    "\n",
    "Write a function to:\n",
    "1. Find the mean of the array. 6.0\n",
    "2. Replace values greater than the mean with the string 'High' and values less than the mean with the string 'Low'.\n",
    "3. Return the modified array. \n",
    "array(['Low', 'Low', 'Low', 'High', 'High', 'High'], dtype='<U4')"
   ]
  },
  {
   "cell_type": "code",
   "execution_count": 8,
   "id": "09d71066-c230-4262-9d32-f43ec6e6aaf6",
   "metadata": {},
   "outputs": [],
   "source": [
    "arr = np.array([1, 3, 5, 7, 9, 11])\n",
    "def fun(array):\n",
    "    mean=array.mean()\n",
    "    print(mean)\n",
    "    array=np.where(array>mean,\"High\",\"Low\")\n",
    "    return array    "
   ]
  },
  {
   "cell_type": "code",
   "execution_count": 9,
   "id": "e9305089-9aad-45c2-a65f-da76a83e5547",
   "metadata": {},
   "outputs": [
    {
     "name": "stdout",
     "output_type": "stream",
     "text": [
      "6.0\n"
     ]
    },
    {
     "data": {
      "text/plain": [
       "array(['Low', 'Low', 'Low', 'High', 'High', 'High'], dtype='<U4')"
      ]
     },
     "execution_count": 9,
     "metadata": {},
     "output_type": "execute_result"
    }
   ],
   "source": [
    "fun(arr)"
   ]
  },
  {
   "cell_type": "raw",
   "id": "8004717b-9bef-46de-a863-5f6455795d30",
   "metadata": {},
   "source": [
    "Q6.   \n",
    "MCQ:  \n",
    "What is the output of the following code?\n",
    "\n",
    "\n",
    "\timport pandas as pd\n",
    "\tdf = pd.DataFrame({\n",
    "    \t\t'A': [1, 2, 3],\n",
    "    \t\t'B': [4, 5, 6]\n",
    "\t})\n",
    "\tdf['C'] = df['A'] + df['B']\n",
    "\n",
    "\n",
    "a) A DataFrame with columns A, B, and C, where C is the sum of A and B  \n",
    "b) A KeyError because column 'C' does not exist  \n",
    "c) A DataFrame with columns A, B, and C, where C contains 0 values  \n",
    "d) An empty DataFrame\n",
    "\n",
    "Ans: a"
   ]
  },
  {
   "cell_type": "code",
   "execution_count": 10,
   "id": "763d6f1e-4685-41ce-912d-5c96da2313c9",
   "metadata": {},
   "outputs": [
    {
     "data": {
      "text/html": [
       "<div>\n",
       "<style scoped>\n",
       "    .dataframe tbody tr th:only-of-type {\n",
       "        vertical-align: middle;\n",
       "    }\n",
       "\n",
       "    .dataframe tbody tr th {\n",
       "        vertical-align: top;\n",
       "    }\n",
       "\n",
       "    .dataframe thead th {\n",
       "        text-align: right;\n",
       "    }\n",
       "</style>\n",
       "<table border=\"1\" class=\"dataframe\">\n",
       "  <thead>\n",
       "    <tr style=\"text-align: right;\">\n",
       "      <th></th>\n",
       "      <th>A</th>\n",
       "      <th>B</th>\n",
       "      <th>C</th>\n",
       "    </tr>\n",
       "  </thead>\n",
       "  <tbody>\n",
       "    <tr>\n",
       "      <th>0</th>\n",
       "      <td>1</td>\n",
       "      <td>4</td>\n",
       "      <td>5</td>\n",
       "    </tr>\n",
       "    <tr>\n",
       "      <th>1</th>\n",
       "      <td>2</td>\n",
       "      <td>5</td>\n",
       "      <td>7</td>\n",
       "    </tr>\n",
       "    <tr>\n",
       "      <th>2</th>\n",
       "      <td>3</td>\n",
       "      <td>6</td>\n",
       "      <td>9</td>\n",
       "    </tr>\n",
       "  </tbody>\n",
       "</table>\n",
       "</div>"
      ],
      "text/plain": [
       "   A  B  C\n",
       "0  1  4  5\n",
       "1  2  5  7\n",
       "2  3  6  9"
      ]
     },
     "execution_count": 10,
     "metadata": {},
     "output_type": "execute_result"
    }
   ],
   "source": [
    "df = pd.DataFrame({\n",
    "    \t\t'A': [1, 2, 3],\n",
    "    \t\t'B': [4, 5, 6]\n",
    "\t})\n",
    "df['C'] = df['A'] + df['B']\n",
    "df"
   ]
  },
  {
   "cell_type": "raw",
   "id": "95a1ef9e-365d-4771-ab5d-53dc0f5a31ad",
   "metadata": {},
   "source": [
    "Q7. Which function is used to merge two DataFrames on a common column?\n",
    "\n",
    "a) pd.join()  \n",
    "b) pd.concat()  \n",
    "c) pd.merge()  \n",
    "d) pd.append()\n",
    "\n",
    "Ans:pd.merge()"
   ]
  },
  {
   "cell_type": "raw",
   "id": "7a9aff07-ae91-4f46-b647-28d9ceb1a771",
   "metadata": {},
   "source": [
    "Q8.   \n",
    "Coding Problem:  \n",
    "You are given the following dataset of student scores:\n",
    "\n",
    "\n",
    "\timport pandas as pd\n",
    "\tdata = {\n",
    "    \t\t'Name': ['Alice', 'Bob', 'Charlie', 'David', 'Eve'],\n",
    "    \t\t'Math': [85, 90, 88, 92, 78],\n",
    "    \t\t'English': [79, 88, 91, 85, 80],\n",
    "    \t\t'Science': [92, 85, 89, 94, 81]\n",
    "\t\t}\n",
    "\tdf = pd.DataFrame(data)\n",
    "\n",
    "\n",
    "1. Calculate the average score across all subjects for each student.\n",
    "2. Create a new column Total that contains the total score across all subjects.\n",
    "3. Find the student with the highest average score and the one with the lowest average score.\n",
    "\n",
    "Name  Math  English  Science    Average  Sum\n",
    "0    Alice    85       79       92  85.333333  256\n",
    "1      Bob    90       88       85  87.666667  263\n",
    "2  Charlie    88       91       89  89.333333  268\n",
    "3    David    92       85       94  90.333333  271\n",
    "4      Eve    78       80       81  79.666667  239\n",
    "David got maximum:  90.33333333333333\n",
    "Eve got manimum:  79.66666666666667"
   ]
  },
  {
   "cell_type": "code",
   "execution_count": 11,
   "id": "6ee88a84-e520-4fd6-9a8a-52fa04b86d24",
   "metadata": {},
   "outputs": [
    {
     "data": {
      "text/html": [
       "<div>\n",
       "<style scoped>\n",
       "    .dataframe tbody tr th:only-of-type {\n",
       "        vertical-align: middle;\n",
       "    }\n",
       "\n",
       "    .dataframe tbody tr th {\n",
       "        vertical-align: top;\n",
       "    }\n",
       "\n",
       "    .dataframe thead th {\n",
       "        text-align: right;\n",
       "    }\n",
       "</style>\n",
       "<table border=\"1\" class=\"dataframe\">\n",
       "  <thead>\n",
       "    <tr style=\"text-align: right;\">\n",
       "      <th></th>\n",
       "      <th>Name</th>\n",
       "      <th>Math</th>\n",
       "      <th>English</th>\n",
       "      <th>Science</th>\n",
       "    </tr>\n",
       "  </thead>\n",
       "  <tbody>\n",
       "    <tr>\n",
       "      <th>0</th>\n",
       "      <td>Alice</td>\n",
       "      <td>85</td>\n",
       "      <td>79</td>\n",
       "      <td>92</td>\n",
       "    </tr>\n",
       "    <tr>\n",
       "      <th>1</th>\n",
       "      <td>Bob</td>\n",
       "      <td>90</td>\n",
       "      <td>88</td>\n",
       "      <td>85</td>\n",
       "    </tr>\n",
       "    <tr>\n",
       "      <th>2</th>\n",
       "      <td>Charlie</td>\n",
       "      <td>88</td>\n",
       "      <td>91</td>\n",
       "      <td>89</td>\n",
       "    </tr>\n",
       "    <tr>\n",
       "      <th>3</th>\n",
       "      <td>David</td>\n",
       "      <td>92</td>\n",
       "      <td>85</td>\n",
       "      <td>94</td>\n",
       "    </tr>\n",
       "    <tr>\n",
       "      <th>4</th>\n",
       "      <td>Eve</td>\n",
       "      <td>78</td>\n",
       "      <td>80</td>\n",
       "      <td>81</td>\n",
       "    </tr>\n",
       "  </tbody>\n",
       "</table>\n",
       "</div>"
      ],
      "text/plain": [
       "      Name  Math  English  Science\n",
       "0    Alice    85       79       92\n",
       "1      Bob    90       88       85\n",
       "2  Charlie    88       91       89\n",
       "3    David    92       85       94\n",
       "4      Eve    78       80       81"
      ]
     },
     "execution_count": 11,
     "metadata": {},
     "output_type": "execute_result"
    }
   ],
   "source": [
    "data = {\n",
    "    \t\t'Name': ['Alice', 'Bob', 'Charlie', 'David', 'Eve'],\n",
    "    \t\t'Math': [85, 90, 88, 92, 78],\n",
    "    \t\t'English': [79, 88, 91, 85, 80],\n",
    "    \t\t'Science': [92, 85, 89, 94, 81]\n",
    "\t\t}\n",
    "df=pd.DataFrame(data)\n",
    "df"
   ]
  },
  {
   "cell_type": "code",
   "execution_count": 12,
   "id": "c4a0b6cf-dac4-4dfe-9f1a-a689f7a6ddc3",
   "metadata": {},
   "outputs": [
    {
     "name": "stdout",
     "output_type": "stream",
     "text": [
      "      Name  Math  English  Science    Average  Sum\n",
      "0    Alice    85       79       92  85.333333  256\n",
      "1      Bob    90       88       85  87.666667  263\n",
      "2  Charlie    88       91       89  89.333333  268\n",
      "3    David    92       85       94  90.333333  271\n",
      "4      Eve    78       80       81  79.666667  239\n",
      "David got maximum:  90.33333333333333\n",
      "Eve got minimum:  79.66666666666667\n"
     ]
    }
   ],
   "source": [
    "df['Average']=(df.Math+df.English+df.Science)/3\n",
    "df['Sum']=(df.Math+df.English+df.Science)\n",
    "print(df)\n",
    "maximum=df.Average.max()\n",
    "minimum=df.Average.min()\n",
    "print(\"David got maximum: \",maximum)\n",
    "print(\"Eve got minimum: \",minimum)"
   ]
  },
  {
   "cell_type": "raw",
   "id": "abf9b1c7-6dc5-48e3-83d2-0e9ecabbb184",
   "metadata": {},
   "source": [
    "Q9. import pandas as pd\n",
    "\tsales_data = {\n",
    "    \t\t'Product': ['A', 'B', 'C', 'D', 'E'],\n",
    "    \t\t'Sales_Q1': [100, 150, 200, 130, 180],\n",
    "    \t\t'Sales_Q2': [120, 160, 210, 150, 170],\n",
    "    \t\t'Sales_Q3': [110, 180, 220, 140, 190],\n",
    "    \t\t'Sales_Q4': [130, 170, 250, 120, 160]\n",
    "\t\t}\n",
    "\tdf_sales = pd.DataFrame(sales_data)\n",
    "\n",
    "\n",
    "1. Calculate the total annual sales for each product.\n",
    "2. Add a column Growth that shows the percentage change from Q1 to Q4 for each product.\n",
    "\n",
    "Product  Sales_Q1  Sales_Q2  Sales_Q3  Sales_Q4  total_annual_sales  \\\n",
    "0       A       100       120       110       130                 460   \n",
    "1       B       150       160       180       170                 660   \n",
    "2       C       200       210       220       250                 880   \n",
    "3       D       130       150       140       120                 540   \n",
    "4       E       180       170       190       160                 700   \n",
    "\n",
    "   GrowthQ1toQ4  \n",
    "0     30.000000  \n",
    "1     13.333333  \n",
    "2     25.000000  \n",
    "3     -7.692308  \n",
    "4    -11.111111  \n",
    "\n",
    "3. Find the product with the highest annual sales and the highest growth percentage. Ans: C,A\n"
   ]
  },
  {
   "cell_type": "code",
   "execution_count": 13,
   "id": "92e53360-ced0-449f-a4dc-19ece6124fc1",
   "metadata": {},
   "outputs": [
    {
     "data": {
      "text/html": [
       "<div>\n",
       "<style scoped>\n",
       "    .dataframe tbody tr th:only-of-type {\n",
       "        vertical-align: middle;\n",
       "    }\n",
       "\n",
       "    .dataframe tbody tr th {\n",
       "        vertical-align: top;\n",
       "    }\n",
       "\n",
       "    .dataframe thead th {\n",
       "        text-align: right;\n",
       "    }\n",
       "</style>\n",
       "<table border=\"1\" class=\"dataframe\">\n",
       "  <thead>\n",
       "    <tr style=\"text-align: right;\">\n",
       "      <th></th>\n",
       "      <th>Product</th>\n",
       "      <th>Sales_Q1</th>\n",
       "      <th>Sales_Q2</th>\n",
       "      <th>Sales_Q3</th>\n",
       "      <th>Sales_Q4</th>\n",
       "    </tr>\n",
       "  </thead>\n",
       "  <tbody>\n",
       "    <tr>\n",
       "      <th>0</th>\n",
       "      <td>A</td>\n",
       "      <td>100</td>\n",
       "      <td>120</td>\n",
       "      <td>110</td>\n",
       "      <td>130</td>\n",
       "    </tr>\n",
       "    <tr>\n",
       "      <th>1</th>\n",
       "      <td>B</td>\n",
       "      <td>150</td>\n",
       "      <td>160</td>\n",
       "      <td>180</td>\n",
       "      <td>170</td>\n",
       "    </tr>\n",
       "    <tr>\n",
       "      <th>2</th>\n",
       "      <td>C</td>\n",
       "      <td>200</td>\n",
       "      <td>210</td>\n",
       "      <td>220</td>\n",
       "      <td>250</td>\n",
       "    </tr>\n",
       "    <tr>\n",
       "      <th>3</th>\n",
       "      <td>D</td>\n",
       "      <td>130</td>\n",
       "      <td>150</td>\n",
       "      <td>140</td>\n",
       "      <td>120</td>\n",
       "    </tr>\n",
       "    <tr>\n",
       "      <th>4</th>\n",
       "      <td>E</td>\n",
       "      <td>180</td>\n",
       "      <td>170</td>\n",
       "      <td>190</td>\n",
       "      <td>160</td>\n",
       "    </tr>\n",
       "  </tbody>\n",
       "</table>\n",
       "</div>"
      ],
      "text/plain": [
       "  Product  Sales_Q1  Sales_Q2  Sales_Q3  Sales_Q4\n",
       "0       A       100       120       110       130\n",
       "1       B       150       160       180       170\n",
       "2       C       200       210       220       250\n",
       "3       D       130       150       140       120\n",
       "4       E       180       170       190       160"
      ]
     },
     "execution_count": 13,
     "metadata": {},
     "output_type": "execute_result"
    }
   ],
   "source": [
    "import pandas as pd\n",
    "sales_data = {\n",
    "    \t\t'Product': ['A', 'B', 'C', 'D', 'E'],\n",
    "    \t\t'Sales_Q1': [100, 150, 200, 130, 180],\n",
    "    \t\t'Sales_Q2': [120, 160, 210, 150, 170],\n",
    "    \t\t'Sales_Q3': [110, 180, 220, 140, 190],\n",
    "    \t\t'Sales_Q4': [130, 170, 250, 120, 160]\n",
    "\t\t}\n",
    "df_sales = pd.DataFrame(sales_data)\n",
    "df_sales"
   ]
  },
  {
   "cell_type": "code",
   "execution_count": 14,
   "id": "c2834d2f-b9bb-40ee-ba64-de256fc62229",
   "metadata": {},
   "outputs": [
    {
     "name": "stdout",
     "output_type": "stream",
     "text": [
      "  Product  Sales_Q1  Sales_Q2  Sales_Q3  Sales_Q4  total_annual_sales  \\\n",
      "0       A       100       120       110       130                 460   \n",
      "1       B       150       160       180       170                 660   \n",
      "2       C       200       210       220       250                 880   \n",
      "3       D       130       150       140       120                 540   \n",
      "4       E       180       170       190       160                 700   \n",
      "\n",
      "   GrowthQ1toQ4  \n",
      "0     30.000000  \n",
      "1     13.333333  \n",
      "2     25.000000  \n",
      "3     -7.692308  \n",
      "4    -11.111111  \n",
      "  Product  Sales_Q1  Sales_Q2  Sales_Q3  Sales_Q4  total_annual_sales  \\\n",
      "2       C       200       210       220       250                 880   \n",
      "\n",
      "   GrowthQ1toQ4  \n",
      "2          25.0  \n",
      "  Product  Sales_Q1  Sales_Q2  Sales_Q3  Sales_Q4  total_annual_sales  \\\n",
      "0       A       100       120       110       130                 460   \n",
      "\n",
      "   GrowthQ1toQ4  \n",
      "0          30.0  \n"
     ]
    }
   ],
   "source": [
    "df_sales[\"total_annual_sales\"]=df_sales.Sales_Q1+df_sales.Sales_Q2+df_sales.Sales_Q3+df_sales.Sales_Q4\n",
    "df_sales[\"GrowthQ1toQ4\"]=((df_sales.Sales_Q4-df_sales.Sales_Q1)/df_sales.Sales_Q1)*100\n",
    "print(df_sales)\n",
    "maximum=df_sales.total_annual_sales.max()\n",
    "highpercentage=df_sales.GrowthQ1toQ4.max()\n",
    "df1=df_sales[df_sales.total_annual_sales==maximum]\n",
    "df2=df_sales[df_sales.GrowthQ1toQ4==highpercentage]\n",
    "print(df1)\n",
    "print(df2)"
   ]
  },
  {
   "cell_type": "raw",
   "id": "52b5fead-9b65-44de-b74f-483894d64edf",
   "metadata": {},
   "source": [
    "Q10.import pandas as pd\n",
    "\temployee_data = {\n",
    "    \t\t'Name': ['John', 'Jane', 'Mary', 'Paul', 'Anna'],\n",
    "    \t\t'Age': [28, 35, 40, 45, 22],\n",
    "    \t\t'Department': ['HR', 'Finance', 'IT', 'Finance', 'HR'],\n",
    "    \t\t'Salary': [50000, 60000, 70000, 75000, 45000]\n",
    "\t\t}\n",
    "\tdf_employee = pd.DataFrame(employee_data)\n",
    "\n",
    "\n",
    "1. Create a new column called Age Group. If the employee is under 30, the value should be Young, between 30 and 40 should be Middle, and above 40 should be Senior.\n",
    " Name  Age Department  Salary Age_Group\n",
    "0  John   28         HR   50000     Young\n",
    "1  Jane   35    Finance   60000    Middle\n",
    "2  Mary   40         IT   70000    Middle\n",
    "3  Paul   45    Finance   75000    Senior\n",
    "4  Anna   22         HR   45000     Young\n",
    "\n",
    "2. Find the average salary per department.\n",
    "Department\n",
    "Finance    67500.0\n",
    "HR         47500.0\n",
    "IT         70000.0\n",
    "\n",
    "3. Identify the employee with the highest salary.\n",
    "Name  Age Department  Salary Age_Group\n",
    "3  Paul   45    Finance   75000    Senior"
   ]
  },
  {
   "cell_type": "code",
   "execution_count": 15,
   "id": "e1763907-3ccd-4151-9d11-ac12d28341d0",
   "metadata": {},
   "outputs": [
    {
     "name": "stdout",
     "output_type": "stream",
     "text": [
      "before modification:\n",
      "   Name  Age Department  Salary  Age_Group\n",
      "0  John   28         HR   50000         28\n",
      "1  Jane   35    Finance   60000         35\n",
      "2  Mary   40         IT   70000         40\n",
      "3  Paul   45    Finance   75000         45\n",
      "4  Anna   22         HR   45000         22\n",
      "After modification:\n",
      "   Name  Age Department  Salary Age_Group\n",
      "0  John   28         HR   50000     Young\n",
      "1  Jane   35    Finance   60000    Middle\n",
      "2  Mary   40         IT   70000    Middle\n",
      "3  Paul   45    Finance   75000    Senior\n",
      "4  Anna   22         HR   45000     Young\n",
      "Department\n",
      "Finance    67500.0\n",
      "HR         47500.0\n",
      "IT         70000.0\n",
      "Name: Salary, dtype: float64\n",
      "   Name  Age Department  Salary Age_Group\n",
      "3  Paul   45    Finance   75000    Senior\n"
     ]
    }
   ],
   "source": [
    "employee_data = {\n",
    "    \t\t'Name': ['John', 'Jane', 'Mary', 'Paul', 'Anna'],\n",
    "    \t\t'Age': [28, 35, 40, 45, 22],\n",
    "    \t\t'Department': ['HR', 'Finance', 'IT', 'Finance', 'HR'],\n",
    "    \t\t'Salary': [50000, 60000, 70000, 75000, 45000]}\n",
    "df_employee = pd.DataFrame(employee_data)\n",
    "df_employee[\"Age_Group\"]=df_employee.Age\n",
    "print(\"before modification:\")\n",
    "print(df_employee)\n",
    "conditions = {\n",
    "    \"Young\": df_employee[\"Age_Group\"]<30,\n",
    "    \"Middle\": (df_employee[\"Age_Group\"]>30) & (df_employee[\"Age_Group\"]<=40),\n",
    "    \"Senior\":df_employee[\"Age_Group\"]>40\n",
    "}\n",
    "df_employee[\"Age_Group\"]= np.select(conditions.values(),conditions.keys(),default=df_employee[\"Age_Group\"])\n",
    "print(\"After modification:\")\n",
    "print(df_employee)\n",
    "print(df_employee.groupby(\"Department\")[\"Salary\"].mean())\n",
    "print(df_employee[df_employee.Salary==df_employee.Salary.max()])"
   ]
  },
  {
   "cell_type": "raw",
   "id": "b03d45b5-c7f7-4ae9-98b7-4a4a497d79ac",
   "metadata": {},
   "source": [
    "Q11.import pandas as pd\n",
    "\tproduct_data = {\n",
    "    \t\t'Product': ['Apple', 'Banana', 'Carrot', 'Date', 'Eggplant'],\n",
    "    \t\t'Price': [2.5, 1.2, 3.0, 2.8, 1.5],\n",
    "    \t\t'Category': ['Fruit', 'Fruit', 'Vegetable', 'Fruit', 'Vegetable']\n",
    "\t\t}\n",
    "\tdf_product = pd.DataFrame(product_data)\n",
    "\n",
    "1. Group the products by their Category and calculate the average price per category.\n",
    "Category\n",
    "Fruit        2.166667\n",
    "Vegetable    2.250000\n",
    "Name: Price, dtype: float64\n",
    "\n",
    "2. Filter the products that cost more than 2.5 and are classified as Fruit.\n",
    "Product \tPrice \tCategory\n",
    "3 \tDate \t2.8 \tFruit\n",
    "\n",
    "3. Sort the products by price in descending order and reset the index.\n",
    "Product \tPrice \tCategory\n",
    "0 \tCarrot \t3.0 \tVegetable\n",
    "1 \tDate \t2.8 \tFruit\n",
    "2 \tApple \t2.5 \tFruit\n",
    "3 \tEggplant \t1.5 \tVegetable\n",
    "4 \tBanana \t1.2 \tFruit"
   ]
  },
  {
   "cell_type": "code",
   "execution_count": 63,
   "id": "4337648c-a16b-40a5-ba93-ad5222ec61cf",
   "metadata": {},
   "outputs": [
    {
     "data": {
      "text/html": [
       "<div>\n",
       "<style scoped>\n",
       "    .dataframe tbody tr th:only-of-type {\n",
       "        vertical-align: middle;\n",
       "    }\n",
       "\n",
       "    .dataframe tbody tr th {\n",
       "        vertical-align: top;\n",
       "    }\n",
       "\n",
       "    .dataframe thead th {\n",
       "        text-align: right;\n",
       "    }\n",
       "</style>\n",
       "<table border=\"1\" class=\"dataframe\">\n",
       "  <thead>\n",
       "    <tr style=\"text-align: right;\">\n",
       "      <th></th>\n",
       "      <th>Product</th>\n",
       "      <th>Price</th>\n",
       "      <th>Category</th>\n",
       "    </tr>\n",
       "  </thead>\n",
       "  <tbody>\n",
       "    <tr>\n",
       "      <th>0</th>\n",
       "      <td>Apple</td>\n",
       "      <td>2.5</td>\n",
       "      <td>Fruit</td>\n",
       "    </tr>\n",
       "    <tr>\n",
       "      <th>1</th>\n",
       "      <td>Banana</td>\n",
       "      <td>1.2</td>\n",
       "      <td>Fruit</td>\n",
       "    </tr>\n",
       "    <tr>\n",
       "      <th>2</th>\n",
       "      <td>Carrot</td>\n",
       "      <td>3.0</td>\n",
       "      <td>Vegetable</td>\n",
       "    </tr>\n",
       "    <tr>\n",
       "      <th>3</th>\n",
       "      <td>Date</td>\n",
       "      <td>2.8</td>\n",
       "      <td>Fruit</td>\n",
       "    </tr>\n",
       "    <tr>\n",
       "      <th>4</th>\n",
       "      <td>Eggplant</td>\n",
       "      <td>1.5</td>\n",
       "      <td>Vegetable</td>\n",
       "    </tr>\n",
       "  </tbody>\n",
       "</table>\n",
       "</div>"
      ],
      "text/plain": [
       "    Product  Price   Category\n",
       "0     Apple    2.5      Fruit\n",
       "1    Banana    1.2      Fruit\n",
       "2    Carrot    3.0  Vegetable\n",
       "3      Date    2.8      Fruit\n",
       "4  Eggplant    1.5  Vegetable"
      ]
     },
     "execution_count": 63,
     "metadata": {},
     "output_type": "execute_result"
    }
   ],
   "source": [
    "product_data = {\n",
    "    \t\t'Product': ['Apple', 'Banana', 'Carrot', 'Date', 'Eggplant'],\n",
    "    \t\t'Price': [2.5, 1.2, 3.0, 2.8, 1.5],\n",
    "    \t\t'Category': ['Fruit', 'Fruit', 'Vegetable', 'Fruit', 'Vegetable']\n",
    "}\n",
    "df_product = pd.DataFrame(product_data)\n",
    "df_product"
   ]
  },
  {
   "cell_type": "code",
   "execution_count": 64,
   "id": "069cffe2-7b6d-48d9-8ea3-be921a6ff74d",
   "metadata": {},
   "outputs": [
    {
     "data": {
      "text/plain": [
       "Category\n",
       "Fruit        2.166667\n",
       "Vegetable    2.250000\n",
       "Name: Price, dtype: float64"
      ]
     },
     "execution_count": 64,
     "metadata": {},
     "output_type": "execute_result"
    }
   ],
   "source": [
    "# 1. Group the products by their Category and calculate the average price per category.\n",
    "df_product.groupby(\"Category\")[\"Price\"].mean()"
   ]
  },
  {
   "cell_type": "code",
   "execution_count": 65,
   "id": "26046b06-b69e-4e90-900c-bf71b7afb44a",
   "metadata": {},
   "outputs": [
    {
     "data": {
      "text/html": [
       "<div>\n",
       "<style scoped>\n",
       "    .dataframe tbody tr th:only-of-type {\n",
       "        vertical-align: middle;\n",
       "    }\n",
       "\n",
       "    .dataframe tbody tr th {\n",
       "        vertical-align: top;\n",
       "    }\n",
       "\n",
       "    .dataframe thead th {\n",
       "        text-align: right;\n",
       "    }\n",
       "</style>\n",
       "<table border=\"1\" class=\"dataframe\">\n",
       "  <thead>\n",
       "    <tr style=\"text-align: right;\">\n",
       "      <th></th>\n",
       "      <th>Product</th>\n",
       "      <th>Price</th>\n",
       "      <th>Category</th>\n",
       "    </tr>\n",
       "  </thead>\n",
       "  <tbody>\n",
       "    <tr>\n",
       "      <th>3</th>\n",
       "      <td>Date</td>\n",
       "      <td>2.8</td>\n",
       "      <td>Fruit</td>\n",
       "    </tr>\n",
       "  </tbody>\n",
       "</table>\n",
       "</div>"
      ],
      "text/plain": [
       "  Product  Price Category\n",
       "3    Date    2.8    Fruit"
      ]
     },
     "execution_count": 65,
     "metadata": {},
     "output_type": "execute_result"
    }
   ],
   "source": [
    "# 2.Filter the products that cost more than 2.5 and are classified as Fruit.\n",
    "df_product[(df_product[\"Price\"]>2.5) & (df_product[\"Category\"]==\"Fruit\")]"
   ]
  },
  {
   "cell_type": "code",
   "execution_count": 75,
   "id": "8948fba8-85c5-4f9e-a5b8-2c2a80f696df",
   "metadata": {},
   "outputs": [
    {
     "data": {
      "text/html": [
       "<div>\n",
       "<style scoped>\n",
       "    .dataframe tbody tr th:only-of-type {\n",
       "        vertical-align: middle;\n",
       "    }\n",
       "\n",
       "    .dataframe tbody tr th {\n",
       "        vertical-align: top;\n",
       "    }\n",
       "\n",
       "    .dataframe thead th {\n",
       "        text-align: right;\n",
       "    }\n",
       "</style>\n",
       "<table border=\"1\" class=\"dataframe\">\n",
       "  <thead>\n",
       "    <tr style=\"text-align: right;\">\n",
       "      <th></th>\n",
       "      <th>Product</th>\n",
       "      <th>Price</th>\n",
       "      <th>Category</th>\n",
       "    </tr>\n",
       "  </thead>\n",
       "  <tbody>\n",
       "    <tr>\n",
       "      <th>0</th>\n",
       "      <td>Carrot</td>\n",
       "      <td>3.0</td>\n",
       "      <td>Vegetable</td>\n",
       "    </tr>\n",
       "    <tr>\n",
       "      <th>1</th>\n",
       "      <td>Date</td>\n",
       "      <td>2.8</td>\n",
       "      <td>Fruit</td>\n",
       "    </tr>\n",
       "    <tr>\n",
       "      <th>2</th>\n",
       "      <td>Apple</td>\n",
       "      <td>2.5</td>\n",
       "      <td>Fruit</td>\n",
       "    </tr>\n",
       "    <tr>\n",
       "      <th>3</th>\n",
       "      <td>Eggplant</td>\n",
       "      <td>1.5</td>\n",
       "      <td>Vegetable</td>\n",
       "    </tr>\n",
       "    <tr>\n",
       "      <th>4</th>\n",
       "      <td>Banana</td>\n",
       "      <td>1.2</td>\n",
       "      <td>Fruit</td>\n",
       "    </tr>\n",
       "  </tbody>\n",
       "</table>\n",
       "</div>"
      ],
      "text/plain": [
       "    Product  Price   Category\n",
       "0    Carrot    3.0  Vegetable\n",
       "1      Date    2.8      Fruit\n",
       "2     Apple    2.5      Fruit\n",
       "3  Eggplant    1.5  Vegetable\n",
       "4    Banana    1.2      Fruit"
      ]
     },
     "execution_count": 75,
     "metadata": {},
     "output_type": "execute_result"
    }
   ],
   "source": [
    "# 3. Sort the products by price in descending order and reset the index.\n",
    "df_product.sort_values(\"Price\",ascending=False).reset_index(drop=True)"
   ]
  },
  {
   "cell_type": "raw",
   "id": "5c33d8b8-bbdb-4433-8650-1be60072226e",
   "metadata": {},
   "source": [
    "Q12. What is the purpose of cross-validation?\n",
    "a) To evaluate model performance on unseen data  \n",
    "b) To select the best hyperparameters for the model  \n",
    "c) To assess the model’s ability to generalize  \n",
    "d) All of the above\n",
    "Ans: D"
   ]
  },
  {
   "cell_type": "raw",
   "id": "90808be9-ac5f-4f8d-aa3d-293057b273c8",
   "metadata": {},
   "source": [
    "Q13. Which of the following is true about overfitting in a machine learning model?\n",
    "\n",
    "a) Overfitting occurs when the model performs well on the training data but poorly on new, unseen data.  \n",
    "b) Overfitting occurs when the model is too simple to capture the underlying patterns.  \n",
    "c) Overfitting can always be avoided by using more features.  \n",
    "d) Overfitting occurs when the training data is not sufficient.\n",
    "\n",
    "Ans: a\n"
   ]
  },
  {
   "cell_type": "raw",
   "id": "8a94c96f-1172-487c-b005-8ccdfc4d781a",
   "metadata": {},
   "source": [
    "14.import pandas as pd\n",
    "\tdata = {\n",
    "    \t\t'Age': [23, 45, 56, 67, 34, 23, 45, 67],\n",
    "    \t\t'Salary': [50000, 60000, 70000, 80000, 55000, 45000, 65000, 75000]\n",
    "\t}\n",
    "\tdf = pd.DataFrame(data)\n",
    "\n",
    "\n",
    "1. Split the data into features (X) and target (y) where X is the Age and y is the Salary.\n",
    "2. Train a simple linear regression model to predict Salary based on Age.\n",
    "3. Evaluate the model using Mean Squared Error (MSE).\n"
   ]
  },
  {
   "cell_type": "code",
   "execution_count": 79,
   "id": "74b9320e-d2c8-4e30-a7e7-80bbe970df6a",
   "metadata": {},
   "outputs": [
    {
     "data": {
      "text/html": [
       "<div>\n",
       "<style scoped>\n",
       "    .dataframe tbody tr th:only-of-type {\n",
       "        vertical-align: middle;\n",
       "    }\n",
       "\n",
       "    .dataframe tbody tr th {\n",
       "        vertical-align: top;\n",
       "    }\n",
       "\n",
       "    .dataframe thead th {\n",
       "        text-align: right;\n",
       "    }\n",
       "</style>\n",
       "<table border=\"1\" class=\"dataframe\">\n",
       "  <thead>\n",
       "    <tr style=\"text-align: right;\">\n",
       "      <th></th>\n",
       "      <th>Age</th>\n",
       "      <th>Salary</th>\n",
       "    </tr>\n",
       "  </thead>\n",
       "  <tbody>\n",
       "    <tr>\n",
       "      <th>0</th>\n",
       "      <td>23</td>\n",
       "      <td>50000</td>\n",
       "    </tr>\n",
       "    <tr>\n",
       "      <th>1</th>\n",
       "      <td>45</td>\n",
       "      <td>60000</td>\n",
       "    </tr>\n",
       "    <tr>\n",
       "      <th>2</th>\n",
       "      <td>56</td>\n",
       "      <td>70000</td>\n",
       "    </tr>\n",
       "    <tr>\n",
       "      <th>3</th>\n",
       "      <td>67</td>\n",
       "      <td>80000</td>\n",
       "    </tr>\n",
       "    <tr>\n",
       "      <th>4</th>\n",
       "      <td>34</td>\n",
       "      <td>55000</td>\n",
       "    </tr>\n",
       "    <tr>\n",
       "      <th>5</th>\n",
       "      <td>23</td>\n",
       "      <td>45000</td>\n",
       "    </tr>\n",
       "    <tr>\n",
       "      <th>6</th>\n",
       "      <td>45</td>\n",
       "      <td>65000</td>\n",
       "    </tr>\n",
       "    <tr>\n",
       "      <th>7</th>\n",
       "      <td>67</td>\n",
       "      <td>75000</td>\n",
       "    </tr>\n",
       "  </tbody>\n",
       "</table>\n",
       "</div>"
      ],
      "text/plain": [
       "   Age  Salary\n",
       "0   23   50000\n",
       "1   45   60000\n",
       "2   56   70000\n",
       "3   67   80000\n",
       "4   34   55000\n",
       "5   23   45000\n",
       "6   45   65000\n",
       "7   67   75000"
      ]
     },
     "execution_count": 79,
     "metadata": {},
     "output_type": "execute_result"
    }
   ],
   "source": [
    "data = {\n",
    "    \t\t'Age': [23, 45, 56, 67, 34, 23, 45, 67],\n",
    "    \t\t'Salary': [50000, 60000, 70000, 80000, 55000, 45000, 65000, 75000]\n",
    "}\n",
    "df = pd.DataFrame(data)\n",
    "df"
   ]
  },
  {
   "cell_type": "code",
   "execution_count": 84,
   "id": "45f13389-7416-487f-92bf-c44afb9134b2",
   "metadata": {},
   "outputs": [
    {
     "name": "stdout",
     "output_type": "stream",
     "text": [
      "   Age\n",
      "0   23\n",
      "1   45\n",
      "2   56\n",
      "3   67\n",
      "4   34\n",
      "5   23\n",
      "6   45\n",
      "7   67 \n",
      " 0    50000\n",
      "1    60000\n",
      "2    70000\n",
      "3    80000\n",
      "4    55000\n",
      "5    45000\n",
      "6    65000\n",
      "7    75000\n",
      "Name: Salary, dtype: int64\n"
     ]
    }
   ],
   "source": [
    "# 1. Split the data into features (X) and target (y) where X is the Age and y is the Salary.\n",
    "y=df.Salary\n",
    "x=df.drop(\"Salary\",axis=1)\n",
    "print(x,\"\\n\",y)"
   ]
  },
  {
   "cell_type": "code",
   "execution_count": null,
   "id": "7b6ef630-cd63-4e5c-8931-229196f8139f",
   "metadata": {},
   "outputs": [],
   "source": []
  }
 ],
 "metadata": {
  "kernelspec": {
   "display_name": "Python 3 (ipykernel)",
   "language": "python",
   "name": "python3"
  },
  "language_info": {
   "codemirror_mode": {
    "name": "ipython",
    "version": 3
   },
   "file_extension": ".py",
   "mimetype": "text/x-python",
   "name": "python",
   "nbconvert_exporter": "python",
   "pygments_lexer": "ipython3",
   "version": "3.12.6"
  }
 },
 "nbformat": 4,
 "nbformat_minor": 5
}
